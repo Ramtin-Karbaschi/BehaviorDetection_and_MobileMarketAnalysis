{
 "cells": [
  {
   "cell_type": "code",
   "execution_count": 8,
   "metadata": {},
   "outputs": [],
   "source": [
    "import numpy as np\n",
    "import pandas as pd\n",
    "import pandas as pd\n",
    "import numpy as np\n",
    "from sklearn.impute import KNNImputer"
   ]
  },
  {
   "cell_type": "code",
   "execution_count": 9,
   "metadata": {},
   "outputs": [],
   "source": [
    "df = pd.read_csv('/Users/arqavan/Downloads/HBN.csv')\n",
    "df.drop(columns=['Unnamed: 0'], inplace=True)\n",
    "df_h = df.copy()"
   ]
  },
  {
   "cell_type": "code",
   "execution_count": 10,
   "metadata": {},
   "outputs": [],
   "source": [
    "numeric_df = df_h.select_dtypes(include=[np.number])\n",
    "numeric_columns = df_h.select_dtypes(include=['float64']).columns\n",
    "imputer_algorithm = KNNImputer(n_neighbors=5, weights='uniform', metric='nan_euclidean')\n",
    "df_h[numeric_columns] = imputer_algorithm.fit_transform(df_h[numeric_columns])\n"
   ]
  },
  {
   "cell_type": "markdown",
   "metadata": {},
   "source": [
    "آزمون فرض"
   ]
  },
  {
   "cell_type": "markdown",
   "metadata": {},
   "source": [
    "اختلالات خواب می‌تواند منجر به کاهش نرخ متابولیسم بدن شود. مشابه سوال ۵ قسمت توصیفی افراد را به دو دسته‌ی با اختلال خواب و بدون اختلال خواب تقسیم کنید، به نظر شما میانگین نرخ متابولیسم این دو گروه با هم برابر است؟"
   ]
  },
  {
   "cell_type": "code",
   "execution_count": 11,
   "metadata": {},
   "outputs": [
    {
     "name": "stdout",
     "output_type": "stream",
     "text": [
      "The data for 'sleep_disorder' is not normally distributed.\n",
      "The data for 'without_sleep_disorder' is not normally distributed.\n",
      "1180284.5 5.588238731113293e-12\n",
      "H0 is rejected. So the mean metabolic rate of these two groups is not equal.\n"
     ]
    }
   ],
   "source": [
    "## hipothetis test\n",
    "\n",
    "#first_q\n",
    "\n",
    "from scipy.stats import shapiro\n",
    "from scipy.stats import mannwhitneyu\n",
    "\n",
    "\n",
    "#group by sleep disorder or without\n",
    "df_h['sleep_disorder'] = df_h['SDS-SDS_Total_T'] < 50\n",
    "df_h['without_sleep_disorder'] = df_h['SDS-SDS_Total_T'] >= 50\n",
    "\n",
    "sleep_disorder = df_h[df_h['sleep_disorder'] == True]['BIA-BIA_BMR']\n",
    "without_sleep_disorder = df_h[df_h['sleep_disorder'] == False]['BIA-BIA_BMR']\n",
    "\n",
    "#check the distrubution of metabolic rate\n",
    "stat1, p1 = shapiro(sleep_disorder)\n",
    "stat2, p2 = shapiro(without_sleep_disorder)\n",
    "stat1, p1, stat2, p2\n",
    "\n",
    "if p1 >= 0.05:\n",
    "    print(\"The data for 'sleep_disorder' is normally distributed.\")\n",
    "else:\n",
    "    print(\"The data for 'sleep_disorder' is not normally distributed.\")\n",
    "\n",
    "if p2 >= 0.05:\n",
    "    print(\"The data for 'without_sleep_disorder' is normally distributed.\")\n",
    "else:\n",
    "    print(\"The data for 'without_sleep_disorder' is not normally distributed.\")\n",
    "\n",
    "\n",
    "\n",
    "# h0: The mean metabolic rate of these two groups is equal.\n",
    "#I am using the Mann-Whitney U Test because the data distribution is not normal.\n",
    "stat, p = mannwhitneyu(sleep_disorder, without_sleep_disorder)\n",
    "print(stat, p)\n",
    "if p < 0.05:\n",
    "  print('H0 is rejected. So the mean metabolic rate of these two groups is not equal.')\n",
    "else:\n",
    "  print('H0 is correct and the mean metabolic rate of these two groups is equal.')\n"
   ]
  },
  {
   "cell_type": "markdown",
   "metadata": {},
   "source": [
    "آیا به طور میانگین تفاوت مشهودی بین توده‌ی عضلانی خالص در دختران و پسران وجود دارد؟ شرکت کنندگان را به دو دسته‌ی کودک (از ۵ تا ۱۳ سال) و جوان (از ۱۴ تا ۲۲ سال) تقسیم کنید، آیا به طور میانگین تفاوت مشهودی در توده‌ی عضلانی خالص کودکان و جوانان وجود دارد؟"
   ]
  },
  {
   "cell_type": "code",
   "execution_count": 12,
   "metadata": {},
   "outputs": [
    {
     "name": "stdout",
     "output_type": "stream",
     "text": [
      "The data for 'female_data' is not normally distributed.\n",
      "The data for 'male_data' is not normally distributed.\n",
      "0.1378903145478727\n",
      "H0 is correct and On average, the Skeletal Muscle Mass between girls and boys is equal.\n",
      "----------------------------------------\n",
      "The data for 'child' is not normally distributed.\n",
      "The data for 'young' is not normally distributed.\n",
      "1.8183467899836332e-180\n",
      "H0 is rejected. So On average, the Skeletal Muscle Mass between young people and children is not equal.\n"
     ]
    }
   ],
   "source": [
    "#second_q\n",
    "#part1\n",
    "# h0: On average, the Skeletal Muscle Mass between girls and boys is equal.\n",
    "\n",
    "female_data = df_h[df_h['Sex'] == 1]['BIA-BIA_SMM']\n",
    "male_data = df_h[df_h['Sex'] == 0]['BIA-BIA_SMM']\n",
    "\n",
    "stat_female, p_female = shapiro(female_data)\n",
    "stat_male, p_male = shapiro(male_data)\n",
    "\n",
    "if p_female >= 0.05:\n",
    "    print(\"The data for 'female_data' is normally distributed.\")\n",
    "else:\n",
    "    print(\"The data for 'female_data' is not normally distributed.\")\n",
    "\n",
    "if p_male >= 0.05:\n",
    "    print(\"The data for 'male_data' is normally distributed.\")\n",
    "else:\n",
    "    print(\"The data for 'male_data' is not normally distributed.\")\n",
    "\n",
    "stat_sex, p_sex = mannwhitneyu(male_data, female_data)\n",
    "print(p_sex)\n",
    "\n",
    "if p_sex < 0.05:\n",
    "  print('H0 is rejected. So On average, the Skeletal Muscle Mass between girls and boys is not equal.')\n",
    "else:\n",
    "  print('H0 is correct and On average, the Skeletal Muscle Mass between girls and boys is equal.')\n",
    "\n",
    "print('----------------------------------------')\n",
    "\n",
    "\n",
    "#part2\n",
    "#H0: On average, the Skeletal Muscle Mass between young people and children is equal.\n",
    "\n",
    "child = df_h[(df_h['Age'] >= 5) & (df_h['Age'] <= 13)]['BIA-BIA_SMM']\n",
    "young = df_h[(df_h['Age'] >= 14) & (df_h['Age'] <= 22)]['BIA-BIA_SMM']\n",
    "\n",
    "stat_child, p_child = shapiro(child)\n",
    "stat_young, p_young = shapiro(young)\n",
    "\n",
    "if p_child >= 0.05:\n",
    "    print(\"The data for 'child' is normally distributed.\")\n",
    "else:\n",
    "    print(\"The data for 'child' is not normally distributed.\")\n",
    "\n",
    "if p_young >= 0.05:\n",
    "    print(\"The data for 'young' is normally distributed.\")\n",
    "else:\n",
    "    print(\"The data for 'young' is not normally distributed.\")\n",
    "\n",
    "\n",
    "stat_age, p_age = mannwhitneyu(child, young)\n",
    "print(p_age)\n",
    "\n",
    "if p_age < 0.05:\n",
    "  print('H0 is rejected. So On average, the Skeletal Muscle Mass between young people and children is not equal.')\n",
    "else:\n",
    "  print('H0 is correct and On average, the Skeletal Muscle Mass between young people and children is equal.')"
   ]
  },
  {
   "cell_type": "markdown",
   "metadata": {},
   "source": [
    "گزارهٔ زیر را نه تنها با استفاده از آزمون فرض، بلکه همراه با توضیحات و تحلیل‌های مناسب و بیشتر مورد بررسی قرار دهید.\n",
    "دانشمندان ادعا می‌کنند که میزان فعالیت بدنی در کودکان و بزرگسالانی که بیشتر از دو ساعت از اینترنت استفاده می‌کنند نسبت به کودکان و بزرگسالانی که کمتر از این مقدار از اینترنت استفاده می‌کنند، بیشتر است\n"
   ]
  },
  {
   "cell_type": "code",
   "execution_count": 13,
   "metadata": {},
   "outputs": [
    {
     "name": "stdout",
     "output_type": "stream",
     "text": [
      "The data for 'more_than_two' is not normally distributed.\n",
      "The data for 'less_than_two' is not normally distributed.\n",
      "0.010468734711922245\n",
      "H0 is rejected. So On average, the Skeletal Muscle Mass between young people and children is not equal.\n"
     ]
    }
   ],
   "source": [
    "#third_q\n",
    "#H0:The level of physical activity in children and adults who use the internet for more than two hours is equal to those who use it for less than two hours.\n",
    "\n",
    "more_than_two = df_h[df_h['PreInt_EduHx-computerinternet_hoursday'] > 2]['BIA-BIA_Activity_Level_num']\n",
    "less_than_two = df_h[df_h['PreInt_EduHx-computerinternet_hoursday'] <= 2]['BIA-BIA_Activity_Level_num']\n",
    "\n",
    "stat_more, p_more = shapiro(more_than_two)\n",
    "stat_less, p_less = shapiro(more_than_two)\n",
    "\n",
    "if p_more >= 0.05:\n",
    "    print(\"The data for 'more_than_two' is normally distributed.\")\n",
    "else:\n",
    "    print(\"The data for 'more_than_two' is not normally distributed.\")\n",
    "\n",
    "if p_less >= 0.05:\n",
    "    print(\"The data for 'less_than_two' is normally distributed.\")\n",
    "else:\n",
    "    print(\"The data for 'less_than_two' is not normally distributed.\")\n",
    "\n",
    "#using mannwhitneyu test cause its not normaly disturb\n",
    "\n",
    "stat_use, p_use = mannwhitneyu(more_than_two, less_than_two)\n",
    "print(p_use)\n",
    "\n",
    "if p_use< 0.05:\n",
    "  print('H0 is rejected. So On average, the Skeletal Muscle Mass between young people and children is not equal.')\n",
    "else:\n",
    "  print('H0 is correct and On average, the Skeletal Muscle Mass between young people and children is equal.')"
   ]
  },
  {
   "cell_type": "markdown",
   "metadata": {},
   "source": [
    "این بخش هنوز کامل نشده و نحلیل و بررسی بیشتر را انجام میدم و تکمیلش میکنم"
   ]
  }
 ],
 "metadata": {
  "kernelspec": {
   "display_name": "base",
   "language": "python",
   "name": "python3"
  },
  "language_info": {
   "codemirror_mode": {
    "name": "ipython",
    "version": 3
   },
   "file_extension": ".py",
   "mimetype": "text/x-python",
   "name": "python",
   "nbconvert_exporter": "python",
   "pygments_lexer": "ipython3",
   "version": "3.12.3"
  }
 },
 "nbformat": 4,
 "nbformat_minor": 2
}
